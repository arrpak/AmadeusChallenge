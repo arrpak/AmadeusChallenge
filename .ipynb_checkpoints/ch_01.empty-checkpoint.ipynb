{
 "cells": [
  {
   "cell_type": "markdown",
   "metadata": {},
   "source": [
    "# Count the number of lines in Python for each file"
   ]
  },
  {
   "cell_type": "code",
   "execution_count": 1,
   "metadata": {},
   "outputs": [
    {
     "name": "stdout",
     "output_type": "stream",
     "text": [
      "/home/dsc/Repos/AmadeusChallenge\n"
     ]
    }
   ],
   "source": [
    "# Where am i?\n",
    "\n",
    "! pwd"
   ]
  },
  {
   "cell_type": "code",
   "execution_count": 2,
   "metadata": {},
   "outputs": [
    {
     "name": "stdout",
     "output_type": "stream",
     "text": [
      "/home/dsc/Data/challenge\n"
     ]
    }
   ],
   "source": [
    "# Let's go to the right folder\n",
    "\n",
    "% cd /home/dsc/Data/challenge"
   ]
  },
  {
   "cell_type": "code",
   "execution_count": 3,
   "metadata": {},
   "outputs": [
    {
     "name": "stdout",
     "output_type": "stream",
     "text": [
      "total 1014224\n",
      "541968 -rwxr-x--- 1 dsc dsc 554970628 mar 13  2018 bookings.csv.bz2\n",
      "471872 -rwxr-x--- 1 dsc dsc 483188920 mar 13  2018 searches.csv.bz2\n",
      "   264 -rw-r--r-- 1 dsc dsc    270148 ene 30 19:23 bookings_sample.csv.bz2\n",
      "   120 -rw-r--r-- 1 dsc dsc    120210 ene 30 19:23 searches_sample.csv.bz2\n"
     ]
    }
   ],
   "source": [
    "! ls -lsS"
   ]
  },
  {
   "cell_type": "markdown",
   "metadata": {},
   "source": [
    "## 1) Command Line\n",
    "\n",
    "Use shell commands with the `!` notation to count the number of lines in `bookings.csv.bz2` and `searches.csv.bz2`."
   ]
  },
  {
   "cell_type": "code",
   "execution_count": 4,
   "metadata": {},
   "outputs": [],
   "source": [
    "#! bzcat bookings.csv.bz2 | wc -l\n",
    "# Out 10000011"
   ]
  },
  {
   "cell_type": "code",
   "execution_count": 5,
   "metadata": {},
   "outputs": [],
   "source": [
    "#! bzcat searches.csv.bz2 | wc -l\n",
    "# Out 20390198"
   ]
  },
  {
   "cell_type": "code",
   "execution_count": 6,
   "metadata": {},
   "outputs": [
    {
     "name": "stdout",
     "output_type": "stream",
     "text": [
      "\n",
      "bzcat: I/O or other error, bailing out.  Possible reason follows.\n",
      "bzcat: Broken pipe\n",
      "\tInput file = bookings.csv.bz2, output file = (stdout)\n"
     ]
    }
   ],
   "source": [
    "# Files are too big, Let's go to work with smaller samples: 5000 lines\n",
    "\n",
    "! bzcat bookings.csv.bz2 | head -5000 > bookings_sample.csv"
   ]
  },
  {
   "cell_type": "code",
   "execution_count": 7,
   "metadata": {},
   "outputs": [
    {
     "name": "stdout",
     "output_type": "stream",
     "text": [
      "\n",
      "bzcat: I/O or other error, bailing out.  Possible reason follows.\n",
      "bzcat: Broken pipe\n",
      "\tInput file = searches.csv.bz2, output file = (stdout)\n"
     ]
    }
   ],
   "source": [
    "# Files are too big, Let's go to work with smaller samples: 5000 lines\n",
    "\n",
    "! bzcat searches.csv.bz2 | head -5000 > searches_sample.csv"
   ]
  },
  {
   "cell_type": "code",
   "execution_count": 8,
   "metadata": {},
   "outputs": [
    {
     "name": "stdout",
     "output_type": "stream",
     "text": [
      "total 1017188\n",
      "541968 -rwxr-x--- 1 dsc dsc 554970628 mar 13  2018 bookings.csv.bz2\n",
      "  2072 -rw-r--r-- 1 dsc dsc   2119069 ene 30 20:12 bookings_sample.csv\n",
      "   264 -rw-r--r-- 1 dsc dsc    270148 ene 30 19:23 bookings_sample.csv.bz2\n",
      "471872 -rwxr-x--- 1 dsc dsc 483188920 mar 13  2018 searches.csv.bz2\n",
      "   892 -rw-r--r-- 1 dsc dsc    910597 ene 30 20:12 searches_sample.csv\n",
      "   120 -rw-r--r-- 1 dsc dsc    120210 ene 30 19:23 searches_sample.csv.bz2\n"
     ]
    }
   ],
   "source": [
    "# Have the samples been created?\n",
    "\n",
    "! ls -ls"
   ]
  },
  {
   "cell_type": "code",
   "execution_count": 9,
   "metadata": {},
   "outputs": [
    {
     "name": "stdout",
     "output_type": "stream",
     "text": [
      "5000\n"
     ]
    }
   ],
   "source": [
    "# Reading the file lines\n",
    "\n",
    "! cat bookings_sample.csv | wc -l"
   ]
  },
  {
   "cell_type": "code",
   "execution_count": 10,
   "metadata": {},
   "outputs": [
    {
     "name": "stdout",
     "output_type": "stream",
     "text": [
      "5000\n"
     ]
    }
   ],
   "source": [
    "# Reading the file lines\n",
    "\n",
    "! cat searches_sample.csv | wc -l"
   ]
  },
  {
   "cell_type": "code",
   "execution_count": 11,
   "metadata": {},
   "outputs": [],
   "source": [
    "# Compressing the samples\n",
    "\n",
    "! bzip2 -fk bookings_sample.csv\n",
    "! bzip2 -fk searches_sample.csv"
   ]
  },
  {
   "cell_type": "code",
   "execution_count": 12,
   "metadata": {},
   "outputs": [
    {
     "name": "stdout",
     "output_type": "stream",
     "text": [
      "total 1017188\n",
      "541968 -rwxr-x--- 1 dsc dsc 554970628 mar 13  2018 bookings.csv.bz2\n",
      "  2072 -rw-r--r-- 1 dsc dsc   2119069 ene 30 20:12 bookings_sample.csv\n",
      "   264 -rw-r--r-- 1 dsc dsc    270148 ene 30 20:12 bookings_sample.csv.bz2\n",
      "471872 -rwxr-x--- 1 dsc dsc 483188920 mar 13  2018 searches.csv.bz2\n",
      "   892 -rw-r--r-- 1 dsc dsc    910597 ene 30 20:12 searches_sample.csv\n",
      "   120 -rw-r--r-- 1 dsc dsc    120210 ene 30 20:12 searches_sample.csv.bz2\n"
     ]
    }
   ],
   "source": [
    "# Have the samples been compressed?\n",
    "\n",
    "! ls -ls"
   ]
  },
  {
   "cell_type": "markdown",
   "metadata": {},
   "source": [
    "## 2) Python:"
   ]
  },
  {
   "cell_type": "markdown",
   "metadata": {},
   "source": [
    "We have 2 options:\n",
    "\n",
    "* uncompressing the whole file, then reading from the result.\n",
    "\n",
    "* without uncompressing: better, because we don't expend as much storage or litter our HDD.\n"
   ]
  },
  {
   "cell_type": "markdown",
   "metadata": {},
   "source": [
    "#### Python without uncompressing"
   ]
  },
  {
   "cell_type": "code",
   "execution_count": 13,
   "metadata": {},
   "outputs": [],
   "source": [
    "import bz2"
   ]
  },
  {
   "cell_type": "code",
   "execution_count": 14,
   "metadata": {},
   "outputs": [],
   "source": [
    "# BZ2File implements a complete file interface, including readline(), readlines(), writelines()...\n",
    "\n",
    "bookings = bz2.BZ2File('bookings_sample.csv.bz2')"
   ]
  },
  {
   "cell_type": "code",
   "execution_count": 15,
   "metadata": {},
   "outputs": [],
   "source": [
    "# BZ2File implements a complete file interface, including readline(), readlines(), writelines()...\n",
    "\n",
    "searches = bz2.BZ2File('searches_sample.csv.bz2')"
   ]
  },
  {
   "cell_type": "code",
   "execution_count": 16,
   "metadata": {},
   "outputs": [
    {
     "name": "stdout",
     "output_type": "stream",
     "text": [
      "Number of lines in Bookings file are 5000\n"
     ]
    }
   ],
   "source": [
    "k = 0\n",
    "for lines in bookings:\n",
    "    k += 1\n",
    "print('Number of lines in Bookings file are %s' % (k))"
   ]
  },
  {
   "cell_type": "code",
   "execution_count": 17,
   "metadata": {},
   "outputs": [
    {
     "name": "stdout",
     "output_type": "stream",
     "text": [
      "Number of lines in Searches file are 5000\n"
     ]
    }
   ],
   "source": [
    "k = 0\n",
    "for lines in searches:\n",
    "    k += 1\n",
    "print('Number of lines in Searches file are %s' % (k))"
   ]
  }
 ],
 "metadata": {
  "kernelspec": {
   "display_name": "Python 3",
   "language": "python",
   "name": "python3"
  },
  "language_info": {
   "codemirror_mode": {
    "name": "ipython",
    "version": 3
   },
   "file_extension": ".py",
   "mimetype": "text/x-python",
   "name": "python",
   "nbconvert_exporter": "python",
   "pygments_lexer": "ipython3",
   "version": "3.6.8"
  }
 },
 "nbformat": 4,
 "nbformat_minor": 2
}
